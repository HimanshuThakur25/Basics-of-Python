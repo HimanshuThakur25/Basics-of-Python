{
  "nbformat": 4,
  "nbformat_minor": 0,
  "metadata": {
    "colab": {
      "name": "Python2.ipynb",
      "provenance": []
    },
    "kernelspec": {
      "name": "python3",
      "display_name": "Python 3"
    },
    "language_info": {
      "name": "python"
    }
  },
  "cells": [
    {
      "cell_type": "code",
      "source": [
        "x=\"Himanshu\"\n",
        "print('My name is',x)"
      ],
      "metadata": {
        "colab": {
          "base_uri": "https://localhost:8080/"
        },
        "id": "GKcpDMnlVdOM",
        "outputId": "0763c3b4-b3c8-4bc0-ce0f-59748f6c184e"
      },
      "execution_count": 59,
      "outputs": [
        {
          "output_type": "stream",
          "name": "stdout",
          "text": [
            "My name is Himanshu\n"
          ]
        }
      ]
    },
    {
      "cell_type": "code",
      "source": [
        "y=\"ABCD\"\n",
        "def h2():\n",
        "  #globle y\n",
        "  A=\"Himanshu\"\n",
        "  print(y)\n",
        "  print(\"My name is\",A)\n",
        "  h2()"
      ],
      "metadata": {
        "id": "fEMZP6m2XrGZ"
      },
      "execution_count": 60,
      "outputs": []
    },
    {
      "cell_type": "markdown",
      "source": [
        "y is globle variable it can also use out side the function\n",
        "A in function variable it cannot use out side the function"
      ],
      "metadata": {
        "id": "pGPCS37FZ85B"
      }
    },
    {
      "cell_type": "code",
      "source": [
        "def f3():\n",
        "  B=\"Himanshu\"\n",
        "  print(\"My Name Is\",B)\n",
        "  f3()"
      ],
      "metadata": {
        "id": "2y6QWuzKYT5p"
      },
      "execution_count": 61,
      "outputs": []
    },
    {
      "cell_type": "code",
      "source": [
        "x=1\n",
        "complex(x)"
      ],
      "metadata": {
        "colab": {
          "base_uri": "https://localhost:8080/"
        },
        "id": "5_lrDvcdY8HG",
        "outputId": "da4871eb-6a3b-4a0a-cf19-1734a5bab5a2"
      },
      "execution_count": 62,
      "outputs": [
        {
          "output_type": "execute_result",
          "data": {
            "text/plain": [
              "(1+0j)"
            ]
          },
          "metadata": {},
          "execution_count": 62
        }
      ]
    },
    {
      "cell_type": "markdown",
      "source": [
        "int= integer ,\n",
        "complex ,\n",
        "str= string"
      ],
      "metadata": {
        "id": "ZC41Dq_qaY81"
      }
    },
    {
      "cell_type": "code",
      "source": [
        "x,y,z=5,\"Good Day\",\"globle\"\n",
        "print(x)\n",
        "print(type(x))\n",
        "print(y)\n",
        "print(type(y))\n",
        "print(z)\n",
        "print(type(z))"
      ],
      "metadata": {
        "colab": {
          "base_uri": "https://localhost:8080/"
        },
        "id": "p6qXK-LjYu-D",
        "outputId": "bd84aa7c-989a-41de-9346-942722880bf0"
      },
      "execution_count": 63,
      "outputs": [
        {
          "output_type": "stream",
          "name": "stdout",
          "text": [
            "5\n",
            "<class 'int'>\n",
            "Good Day\n",
            "<class 'str'>\n",
            "globle\n",
            "<class 'str'>\n"
          ]
        }
      ]
    },
    {
      "cell_type": "code",
      "source": [
        "\"in\"+\"dex\""
      ],
      "metadata": {
        "colab": {
          "base_uri": "https://localhost:8080/",
          "height": 35
        },
        "id": "pPKe3dUebHt9",
        "outputId": "f30d29fc-6f58-4aa6-d8b0-f15d0ef8550d"
      },
      "execution_count": 64,
      "outputs": [
        {
          "output_type": "execute_result",
          "data": {
            "text/plain": [
              "'index'"
            ],
            "application/vnd.google.colaboratory.intrinsic+json": {
              "type": "string"
            }
          },
          "metadata": {},
          "execution_count": 64
        }
      ]
    },
    {
      "cell_type": "code",
      "source": [
        "\"in\"+\" \"+\"dex\""
      ],
      "metadata": {
        "colab": {
          "base_uri": "https://localhost:8080/",
          "height": 35
        },
        "id": "WCsHDQ8Cbbrc",
        "outputId": "f858f9ab-e0e2-46e6-e051-df196e60d2ae"
      },
      "execution_count": 65,
      "outputs": [
        {
          "output_type": "execute_result",
          "data": {
            "text/plain": [
              "'in dex'"
            ],
            "application/vnd.google.colaboratory.intrinsic+json": {
              "type": "string"
            }
          },
          "metadata": {},
          "execution_count": 65
        }
      ]
    },
    {
      "cell_type": "code",
      "source": [
        "a=input()\n",
        "a"
      ],
      "metadata": {
        "colab": {
          "base_uri": "https://localhost:8080/",
          "height": 53
        },
        "id": "-qpAzgtMbqDy",
        "outputId": "dd70f700-2dca-4411-c1d6-392f60637b74"
      },
      "execution_count": 66,
      "outputs": [
        {
          "name": "stdout",
          "output_type": "stream",
          "text": [
            "25\n"
          ]
        },
        {
          "output_type": "execute_result",
          "data": {
            "text/plain": [
              "'25'"
            ],
            "application/vnd.google.colaboratory.intrinsic+json": {
              "type": "string"
            }
          },
          "metadata": {},
          "execution_count": 66
        }
      ]
    },
    {
      "cell_type": "markdown",
      "source": [
        "input() use as a promt window we have to type any value in it "
      ],
      "metadata": {
        "id": "NuXkaibAb1TX"
      }
    },
    {
      "cell_type": "code",
      "source": [
        "a=2.3 #int\n",
        "b=312 #float\n",
        "c=3.7 #int\n",
        "print(complex(a,b))\n",
        "print(int(a))\n",
        "print(int(c))\n",
        "print(float(b))\n"
      ],
      "metadata": {
        "colab": {
          "base_uri": "https://localhost:8080/"
        },
        "id": "97k8emXUcLK6",
        "outputId": "cfcc1010-085c-4941-9420-4fcb3034e738"
      },
      "execution_count": 75,
      "outputs": [
        {
          "output_type": "stream",
          "name": "stdout",
          "text": [
            "(2.3+312j)\n",
            "2\n",
            "3\n",
            "312.0\n"
          ]
        }
      ]
    },
    {
      "cell_type": "markdown",
      "source": [
        "converting values , but can't convert complex into integer "
      ],
      "metadata": {
        "id": "lPhfm_yGdaF2"
      }
    },
    {
      "cell_type": "code",
      "source": [
        "import keyword\n",
        "print(keyword.kwlist)"
      ],
      "metadata": {
        "colab": {
          "base_uri": "https://localhost:8080/"
        },
        "id": "MA4MIoyXdknO",
        "outputId": "2f2a6d2b-e115-4128-e896-479d3349e35b"
      },
      "execution_count": 82,
      "outputs": [
        {
          "output_type": "stream",
          "name": "stdout",
          "text": [
            "['False', 'None', 'True', 'and', 'as', 'assert', 'async', 'await', 'break', 'class', 'continue', 'def', 'del', 'elif', 'else', 'except', 'finally', 'for', 'from', 'global', 'if', 'import', 'in', 'is', 'lambda', 'nonlocal', 'not', 'or', 'pass', 'raise', 'return', 'try', 'while', 'with', 'yield']\n"
          ]
        }
      ]
    },
    {
      "cell_type": "code",
      "source": [
        "a=\"Hey , how are you ? from where there\"\n",
        "print(a.strip())\n",
        "print(a.lower())\n",
        "print(a.upper())\n",
        "print(a.replace(\"O\",\"J\"))\n",
        "print(a.split(\"O\"))"
      ],
      "metadata": {
        "colab": {
          "base_uri": "https://localhost:8080/"
        },
        "id": "oe7aCZ3ueJaH",
        "outputId": "6eaadd43-d8ce-424a-d255-f9b4e4d2378f"
      },
      "execution_count": 83,
      "outputs": [
        {
          "output_type": "stream",
          "name": "stdout",
          "text": [
            "Hey , how are you ? from where there\n",
            "hey , how are you ? from where there\n",
            "HEY , HOW ARE YOU ? FROM WHERE THERE\n",
            "Hey , how are you ? from where there\n",
            "['Hey , how are you ? from where there']\n"
          ]
        }
      ]
    },
    {
      "cell_type": "code",
      "source": [
        "age=20\n",
        "text=\"I'm {} year old\"\n",
        "print(text.format(age))"
      ],
      "metadata": {
        "colab": {
          "base_uri": "https://localhost:8080/"
        },
        "id": "dfMJ-K64hjP_",
        "outputId": "4a916502-6d82-4daa-8f79-6d4e00b37781"
      },
      "execution_count": 84,
      "outputs": [
        {
          "output_type": "stream",
          "name": "stdout",
          "text": [
            "I'm 20 year old\n"
          ]
        }
      ]
    },
    {
      "cell_type": "code",
      "source": [
        "age=input()\n",
        "text=\"I'm {} year old\"\n",
        "print(text.format(age))"
      ],
      "metadata": {
        "colab": {
          "base_uri": "https://localhost:8080/"
        },
        "id": "o_oEsmq5h5Gf",
        "outputId": "ea053295-f78e-4c90-fedd-3e4d1eac981f"
      },
      "execution_count": 86,
      "outputs": [
        {
          "output_type": "stream",
          "name": "stdout",
          "text": [
            "23\n",
            "I'm 23 year old\n"
          ]
        }
      ]
    },
    {
      "cell_type": "markdown",
      "source": [
        "use variabe + \".format\""
      ],
      "metadata": {
        "id": "gSa9QKw4iL6H"
      }
    },
    {
      "cell_type": "code",
      "source": [
        "name=input(\"Enter Name \",)\n",
        "age=input(\"Enter Age \",)\n",
        "Class=input(\"Enter Class \",)\n",
        "clg=input(\"Enter College Name \",)\n",
        "\"My name is {a} I'm {b} year old I'm in {c} my College is {d}\".format(a=name,b=age,c=Class,d=clg)"
      ],
      "metadata": {
        "colab": {
          "base_uri": "https://localhost:8080/",
          "height": 105
        },
        "id": "0IFCfjcHiTFH",
        "outputId": "6fe0deb6-4f5f-43d4-8938-39250cf091cf"
      },
      "execution_count": 98,
      "outputs": [
        {
          "name": "stdout",
          "output_type": "stream",
          "text": [
            "Enter Name Himanshu\n",
            "Enter Age 20\n",
            "Enter Class TY\n",
            "Enter College Name SPC\n"
          ]
        },
        {
          "output_type": "execute_result",
          "data": {
            "text/plain": [
              "\"My name is Himanshu I'm 20 year old I'm in TY my College is SPC\""
            ],
            "application/vnd.google.colaboratory.intrinsic+json": {
              "type": "string"
            }
          },
          "metadata": {},
          "execution_count": 98
        }
      ]
    },
    {
      "cell_type": "code",
      "source": [
        "quantity=3\n",
        "item=\"Bread\"\n",
        "price=5\n",
        "Country=\"Indian\"\n",
        "myorder=\"I want {c} pieces of {b} for {d} rupees,Rupees is {a} currancy\"\n",
        "print(myorder.format(b=item,c=quantity,a=Country,d=price))"
      ],
      "metadata": {
        "colab": {
          "base_uri": "https://localhost:8080/"
        },
        "id": "l8OQnclumeFB",
        "outputId": "f4ada31f-095f-4d4b-bed2-149d3e943f9c"
      },
      "execution_count": 101,
      "outputs": [
        {
          "output_type": "stream",
          "name": "stdout",
          "text": [
            "I want 3 pieces of Bread for 5 rupees,Rupees is Indian currancy\n"
          ]
        }
      ]
    },
    {
      "cell_type": "code",
      "source": [
        ""
      ],
      "metadata": {
        "id": "jabVLBayoNY0"
      },
      "execution_count": null,
      "outputs": []
    }
  ]
}