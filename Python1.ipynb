{
  "nbformat": 4,
  "nbformat_minor": 0,
  "metadata": {
    "colab": {
      "name": "Python1",
      "provenance": []
    },
    "kernelspec": {
      "name": "python3",
      "display_name": "Python 3"
    },
    "language_info": {
      "name": "python"
    }
  },
  "cells": [
    {
      "cell_type": "code",
      "source": [
        "x,y=10,5\n",
        "print(x)\n",
        "print(y)\n",
        "print(x+y)\n",
        "print(x*y)\n",
        "print(x-y)\n",
        "print(x/y)\n",
        "print(x//y)\n",
        "print(x%y)\n",
        "\n",
        "\n"
      ],
      "metadata": {
        "colab": {
          "base_uri": "https://localhost:8080/"
        },
        "id": "RnWk7fBn_ryh",
        "outputId": "d610320c-ac84-4c70-c562-5a734c0d1f7f"
      },
      "execution_count": 3,
      "outputs": [
        {
          "output_type": "stream",
          "name": "stdout",
          "text": [
            "10\n",
            "5\n",
            "15\n",
            "50\n",
            "5\n",
            "2.0\n",
            "2\n",
            "0\n"
          ]
        }
      ]
    },
    {
      "cell_type": "code",
      "source": [
        "15/4\n"
      ],
      "metadata": {
        "colab": {
          "base_uri": "https://localhost:8080/"
        },
        "id": "N8Tf2SRFDjbW",
        "outputId": "145acbb8-f7c7-4c7f-dc2c-498d51e8ff1c"
      },
      "execution_count": 9,
      "outputs": [
        {
          "output_type": "execute_result",
          "data": {
            "text/plain": [
              "3.75"
            ]
          },
          "metadata": {},
          "execution_count": 9
        }
      ]
    }
  ]
}