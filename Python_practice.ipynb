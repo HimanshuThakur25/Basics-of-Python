{
  "nbformat": 4,
  "nbformat_minor": 0,
  "metadata": {
    "colab": {
      "name": "Python_practice.ipynb",
      "provenance": [],
      "collapsed_sections": []
    },
    "kernelspec": {
      "name": "python3",
      "display_name": "Python 3"
    },
    "language_info": {
      "name": "python"
    }
  },
  "cells": [
    {
      "cell_type": "code",
      "execution_count": 1,
      "metadata": {
        "colab": {
          "base_uri": "https://localhost:8080/"
        },
        "id": "NOJ7W2fC0wi9",
        "outputId": "030bd50f-5539-45d2-8885-09e233ef599b"
      },
      "outputs": [
        {
          "output_type": "stream",
          "name": "stdout",
          "text": [
            "Enter First Name: A\n",
            "Enter Middle Name: B\n",
            "Enter Surname: C\n",
            "A\n",
            "B\n",
            "C\n"
          ]
        }
      ],
      "source": [
        "x=input(\"Enter First Name: \")\n",
        "y=input(\"Enter Middle Name: \")\n",
        "z=input(\"Enter Surname: \")\n",
        "print(x)\n",
        "print(y)\n",
        "print(z)"
      ]
    },
    {
      "cell_type": "code",
      "source": [
        "x,y,z=input(\"Enter: \").split()\n",
        "print(x,y,z)"
      ],
      "metadata": {
        "id": "AHtZZEFi28D2",
        "colab": {
          "base_uri": "https://localhost:8080/"
        },
        "outputId": "faedf1d3-da60-4436-824a-47b17b626aa0"
      },
      "execution_count": 2,
      "outputs": [
        {
          "output_type": "stream",
          "name": "stdout",
          "text": [
            "Enter: 1 2 3\n",
            "1 2 3\n"
          ]
        }
      ]
    },
    {
      "cell_type": "code",
      "source": [
        "b=int(input(\"Enter No.: \",))\n",
        "a=b%2\n",
        "if a==1:\n",
        "        if b>10:\n",
        "          print(b,\" is 2 digit odd No \")\n",
        "        else:\n",
        "            print(b,\" is Single digit odd No \")\n",
        "else:\n",
        "  print(b,\" is Even No \")"
      ],
      "metadata": {
        "colab": {
          "base_uri": "https://localhost:8080/"
        },
        "id": "0tf5vVT_4YGU",
        "outputId": "27df8c39-92c0-4249-92c0-7cde16042162"
      },
      "execution_count": 3,
      "outputs": [
        {
          "output_type": "stream",
          "name": "stdout",
          "text": [
            "Enter No.: 2\n",
            "2  is Even No \n"
          ]
        }
      ]
    },
    {
      "cell_type": "code",
      "source": [
        "a=9\n",
        "b=100\n",
        "print(a>b)\n",
        "print(a<b)\n",
        "print(a==b)\n",
        "print(a!=b)\n",
        "print(a>=b)\n",
        "print(a<=b)\n"
      ],
      "metadata": {
        "colab": {
          "base_uri": "https://localhost:8080/"
        },
        "id": "dEOgnu6E8BeH",
        "outputId": "2281a662-e51a-49b6-b72a-354496e49cc3"
      },
      "execution_count": 4,
      "outputs": [
        {
          "output_type": "stream",
          "name": "stdout",
          "text": [
            "False\n",
            "True\n",
            "False\n",
            "True\n",
            "False\n",
            "True\n"
          ]
        }
      ]
    }
  ]
}