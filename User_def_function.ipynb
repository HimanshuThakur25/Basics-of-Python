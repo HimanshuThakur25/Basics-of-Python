{
  "nbformat": 4,
  "nbformat_minor": 0,
  "metadata": {
    "colab": {
      "name": "User_def_function.ipynb",
      "provenance": []
    },
    "kernelspec": {
      "name": "python3",
      "display_name": "Python 3"
    },
    "language_info": {
      "name": "python"
    }
  },
  "cells": [
    {
      "cell_type": "code",
      "execution_count": null,
      "metadata": {
        "colab": {
          "base_uri": "https://localhost:8080/"
        },
        "id": "o4t6QWPZfSX4",
        "outputId": "b46e6631-a772-4673-8b7b-f99250036dad"
      },
      "outputs": [
        {
          "output_type": "stream",
          "name": "stdout",
          "text": [
            "Im learnng python\n"
          ]
        }
      ],
      "source": [
        "def my_function():\n",
        "  print(\"I'm learnng python\")\n",
        "\n",
        "my_function()\n"
      ]
    },
    {
      "cell_type": "code",
      "source": [
        "def my_function(fname):\n",
        "  print(fname+ \" \" + \"series\")\n",
        "my_function(\"Pokemon\")\n",
        "my_function(\"naruto\")"
      ],
      "metadata": {
        "colab": {
          "base_uri": "https://localhost:8080/"
        },
        "id": "WZDGK7UkiuIL",
        "outputId": "c7aabf95-6506-4dc2-8043-b6955a22d109"
      },
      "execution_count": 1,
      "outputs": [
        {
          "output_type": "stream",
          "name": "stdout",
          "text": [
            "Pokemon series\n",
            "naruto series\n"
          ]
        }
      ]
    },
    {
      "cell_type": "code",
      "source": [
        "def add(a,b):\n",
        "  return a+b \n",
        "add(4,5)"
      ],
      "metadata": {
        "colab": {
          "base_uri": "https://localhost:8080/"
        },
        "id": "dH2VdBUSkQyf",
        "outputId": "9c956135-87c1-4d23-cede-67d44759f977"
      },
      "execution_count": 3,
      "outputs": [
        {
          "output_type": "stream",
          "name": "stdout",
          "text": [
            "9\n"
          ]
        }
      ]
    },
    {
      "cell_type": "code",
      "source": [
        "def multiply(a,b):\n",
        "  return a*b\n",
        "multiply(3,2)\n"
      ],
      "metadata": {
        "colab": {
          "base_uri": "https://localhost:8080/"
        },
        "id": "cbp5CbNxkxtq",
        "outputId": "86d072a2-405a-40e9-80ee-a3a05b714a9b"
      },
      "execution_count": null,
      "outputs": [
        {
          "output_type": "execute_result",
          "data": {
            "text/plain": [
              "6"
            ]
          },
          "metadata": {},
          "execution_count": 17
        }
      ]
    },
    {
      "cell_type": "code",
      "source": [
        "def subtract(a,b):\n",
        "  return a-b\n",
        "subtract(4,5)\n",
        "\n"
      ],
      "metadata": {
        "colab": {
          "base_uri": "https://localhost:8080/"
        },
        "id": "gWx3-qTel4YY",
        "outputId": "0fc183dc-2ae6-4ede-9fe5-4a057c1aa5ef"
      },
      "execution_count": null,
      "outputs": [
        {
          "output_type": "execute_result",
          "data": {
            "text/plain": [
              "-1"
            ]
          },
          "metadata": {},
          "execution_count": 22
        }
      ]
    },
    {
      "cell_type": "code",
      "source": [
        "def divide(a,b):\n",
        "  return a/b\n",
        "divide(4,5)"
      ],
      "metadata": {
        "colab": {
          "base_uri": "https://localhost:8080/"
        },
        "id": "1sbQaRQpqR_x",
        "outputId": "168ec5d9-caf6-4aa0-c289-3081dd26956d"
      },
      "execution_count": null,
      "outputs": [
        {
          "output_type": "execute_result",
          "data": {
            "text/plain": [
              "0.8"
            ]
          },
          "metadata": {},
          "execution_count": 1
        }
      ]
    },
    {
      "cell_type": "code",
      "source": [
        "def power(a,b):\n",
        "  return a**b\n",
        "power(2,3)"
      ],
      "metadata": {
        "id": "xdh88gXWnz6f",
        "colab": {
          "base_uri": "https://localhost:8080/"
        },
        "outputId": "66e60b73-c52e-4b7c-c5da-45776a9eec31"
      },
      "execution_count": 5,
      "outputs": [
        {
          "output_type": "execute_result",
          "data": {
            "text/plain": [
              "8"
            ]
          },
          "metadata": {},
          "execution_count": 5
        }
      ]
    }
  ]
}