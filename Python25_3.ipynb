{
  "nbformat": 4,
  "nbformat_minor": 0,
  "metadata": {
    "colab": {
      "name": "Python25/3.ipynb",
      "provenance": []
    },
    "kernelspec": {
      "name": "python3",
      "display_name": "Python 3"
    },
    "language_info": {
      "name": "python"
    }
  },
  "cells": [
    {
      "cell_type": "code",
      "execution_count": 31,
      "metadata": {
        "id": "m6SlL1_kchqE"
      },
      "outputs": [],
      "source": [
        "Name=\"Himanshu Thakur\"\n",
        "Roll No=\"9165\""
      ]
    },
    {
      "cell_type": "code",
      "source": [
        ""
      ],
      "metadata": {
        "id": "eL4M-HrFcsVh"
      },
      "execution_count": 17,
      "outputs": []
    },
    {
      "cell_type": "markdown",
      "source": [
        "4 collection Data types\n",
        "-lists\n",
        "-tuples\n",
        "-sets\n"
      ],
      "metadata": {
        "id": "ciF6VWgXeGB5"
      }
    },
    {
      "cell_type": "code",
      "source": [
        "b='abc'\n",
        "c='cdf'\n",
        "a=[\"nick\",'efg']\n",
        "print(type(a))\n",
        "print(a)\n",
        "print(type(b))\n",
        "print(b)"
      ],
      "metadata": {
        "colab": {
          "base_uri": "https://localhost:8080/"
        },
        "id": "1BEbIzOOecL2",
        "outputId": "a69b1fac-2ee8-46a4-e35f-a8b09a3ad636"
      },
      "execution_count": 18,
      "outputs": [
        {
          "output_type": "stream",
          "name": "stdout",
          "text": [
            "<class 'list'>\n",
            "['nick', 'efg']\n",
            "<class 'str'>\n",
            "abc\n"
          ]
        }
      ]
    },
    {
      "cell_type": "code",
      "source": [
        "AA=['A','B','C','D','E','F','G']\n",
        "print(AA)\n",
        "print(type(AA))\n",
        "print(\"2 to 5\",AA[2:5])\n",
        "print(AA[2:])\n",
        "print(AA[:4])"
      ],
      "metadata": {
        "colab": {
          "base_uri": "https://localhost:8080/"
        },
        "id": "6s-LAjtcfO9P",
        "outputId": "dc5645cd-b7b6-4ab3-f1a8-b9a241c8da1b"
      },
      "execution_count": 19,
      "outputs": [
        {
          "output_type": "stream",
          "name": "stdout",
          "text": [
            "['A', 'B', 'C', 'D', 'E', 'F', 'G']\n",
            "<class 'list'>\n",
            "2 to 5 ['C', 'D', 'E']\n",
            "['C', 'D', 'E', 'F', 'G']\n",
            "['A', 'B', 'C', 'D']\n"
          ]
        }
      ]
    },
    {
      "cell_type": "code",
      "source": [
        "#append() :Adds an element to end of the list\n",
        "AA\n",
        "AA.append('H')\n",
        "print(AA)"
      ],
      "metadata": {
        "colab": {
          "base_uri": "https://localhost:8080/"
        },
        "id": "UyACntn5gt6P",
        "outputId": "80ec477c-4969-4d1e-96c6-2715fac0334f"
      },
      "execution_count": 20,
      "outputs": [
        {
          "output_type": "stream",
          "name": "stdout",
          "text": [
            "['A', 'B', 'C', 'D', 'E', 'F', 'G', 'H']\n"
          ]
        }
      ]
    },
    {
      "cell_type": "code",
      "source": [
        "#copy(): Copy of the list\n",
        "AA\n",
        "AA1=AA.copy()\n",
        "print(AA1)"
      ],
      "metadata": {
        "colab": {
          "base_uri": "https://localhost:8080/"
        },
        "id": "7U-Q4ynwhI9c",
        "outputId": "5f171ddd-a9d1-4e71-af49-1f4a1109d2ac"
      },
      "execution_count": 21,
      "outputs": [
        {
          "output_type": "stream",
          "name": "stdout",
          "text": [
            "['A', 'B', 'C', 'D', 'E', 'F', 'G', 'H']\n"
          ]
        }
      ]
    },
    {
      "cell_type": "code",
      "source": [
        "#count(): Returns no of element with specified value \n",
        "AA.append(\"A\")    # by append() we add element 'A' so in count function it gives +1 value (or whenever we run code it added +1)\n",
        "C=AA.count('A')\n",
        "print(C)"
      ],
      "metadata": {
        "colab": {
          "base_uri": "https://localhost:8080/"
        },
        "id": "tyfnCp0ihhd2",
        "outputId": "8dc033a3-e5f9-4ff7-9be7-e94baa33614b"
      },
      "execution_count": 22,
      "outputs": [
        {
          "output_type": "stream",
          "name": "stdout",
          "text": [
            "2\n"
          ]
        }
      ]
    },
    {
      "cell_type": "code",
      "source": [
        "# del : Delete the list\n",
        "del AA\n"
      ],
      "metadata": {
        "id": "YcPFu85YjGgS"
      },
      "execution_count": 23,
      "outputs": []
    },
    {
      "cell_type": "code",
      "source": [
        "# extend() : Add elements of a list \n",
        "# to end of current list \n",
        "AA=['A','B','C','D','E','F','G']\n",
        "Cars=[\"ford\",\"MG\",\"BMW\"] \n",
        "DD=AA.extend(Cars)\n",
        "print(AA) "
      ],
      "metadata": {
        "colab": {
          "base_uri": "https://localhost:8080/"
        },
        "id": "0vCYhdkej-Mb",
        "outputId": "9921d89d-d7f9-41ee-d61b-2ee3a1cd9899"
      },
      "execution_count": 30,
      "outputs": [
        {
          "output_type": "stream",
          "name": "stdout",
          "text": [
            "['A', 'B', 'C', 'D', 'E', 'F', 'G', 'ford', 'MG', 'BMW']\n"
          ]
        }
      ]
    },
    {
      "cell_type": "code",
      "source": [
        "# index(): returs index of the first element"
      ],
      "metadata": {
        "id": "PxWXoWoalcw-"
      },
      "execution_count": null,
      "outputs": []
    }
  ]
}