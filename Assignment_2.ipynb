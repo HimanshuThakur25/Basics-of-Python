{
  "nbformat": 4,
  "nbformat_minor": 0,
  "metadata": {
    "colab": {
      "name": "Assignment_2.ipynb",
      "provenance": []
    },
    "kernelspec": {
      "name": "python3",
      "display_name": "Python 3"
    },
    "language_info": {
      "name": "python"
    }
  },
  "cells": [
    {
      "cell_type": "code",
      "execution_count": null,
      "metadata": {
        "id": "HuxyihKAlg6P"
      },
      "outputs": [],
      "source": [
        "# Name = Himanshu vitthal Thakur\n",
        "# Roll No = 9165"
      ]
    },
    {
      "cell_type": "code",
      "source": [
        "# Q1.Write a Python   Define Function to reverse a string\n",
        "##Solution Q1. \n",
        "def reverse(s):\n",
        "  str = \"\"\n",
        "  for i in s:\n",
        "    str =   i + str\n",
        "  return str\n",
        "reverse(\"Python\")"
      ],
      "metadata": {
        "colab": {
          "base_uri": "https://localhost:8080/",
          "height": 35
        },
        "id": "TNTHtP5aufto",
        "outputId": "0eb4a81f-f72a-4a3a-9864-6cd873ace0f7"
      },
      "execution_count": null,
      "outputs": [
        {
          "output_type": "execute_result",
          "data": {
            "text/plain": [
              "'nohtyP'"
            ],
            "application/vnd.google.colaboratory.intrinsic+json": {
              "type": "string"
            }
          },
          "metadata": {},
          "execution_count": 13
        }
      ]
    },
    {
      "cell_type": "code",
      "source": [
        "#Q2. Write a Python min_max function which will return Min, Max of 4 inputs from the user.\n",
        "##Solution Q2.\n",
        "def min_max(A,B,C,D):\n",
        "  print(\"The Maxmimum value from the input values is: \", max(A,B,C,D))\n",
        "  print(\"The Minimum value from the input values is: \", min(A,B,C,D))\n",
        "  \n",
        "a,b,c,d = input(\"Enter four values to find minimum and maximum value separated by space: \").split()\n",
        "\n",
        "min_max(a,b,c,d)"
      ],
      "metadata": {
        "id": "GQudB-GB8D4B",
        "colab": {
          "base_uri": "https://localhost:8080/"
        },
        "outputId": "3ff0236e-0063-4066-8321-89500cce8f5e"
      },
      "execution_count": null,
      "outputs": [
        {
          "output_type": "stream",
          "name": "stdout",
          "text": [
            "Enter four values to find minimum and maximum value separated by space: 45 67 98 23\n",
            "The Maxmimum value from the input values is:  98\n",
            "The Minimum value from the input values is:  23\n"
          ]
        }
      ]
    },
    {
      "cell_type": "code",
      "source": [
        "#Q3. Write a Python function to sum 4 inputs from the user.\n",
        "##Solution Q3. \n",
        "def Sum(A,B,C,D):\n",
        "  sum = A+B+C+D\n",
        "  print(\"The Sum of the input vlaues is: \", sum)\n",
        "\n",
        "a,b,c,d = list(map(float, input(\"Enter four values : \").split()))\n",
        "Sum (a,b,c,d)"
      ],
      "metadata": {
        "colab": {
          "base_uri": "https://localhost:8080/"
        },
        "id": "Ufyj5h0YSC8k",
        "outputId": "2e1dea5f-48a5-45d8-e7af-201901675865"
      },
      "execution_count": null,
      "outputs": [
        {
          "output_type": "stream",
          "name": "stdout",
          "text": [
            "Enter four values : 1 2 3 4\n",
            "The Sum of the input vlaues is:  10.0\n"
          ]
        }
      ]
    },
    {
      "cell_type": "markdown",
      "source": [
        "Q4. Find out the Command which will return you number of local variables from the user define function."
      ],
      "metadata": {
        "id": "qWuJdkxVWVwz"
      }
    },
    {
      "cell_type": "code",
      "source": [
        "print(\"The Number of Local Variables in the given User Defined Function is: \" ,reverse.__code__.co_nlocals)"
      ],
      "metadata": {
        "colab": {
          "base_uri": "https://localhost:8080/"
        },
        "id": "MBGpOnCjWBtq",
        "outputId": "fe771681-13c1-4615-acb6-7450db83c022"
      },
      "execution_count": null,
      "outputs": [
        {
          "output_type": "stream",
          "name": "stdout",
          "text": [
            "The Number of Local Variables in the given User Defined Function is:  3\n"
          ]
        }
      ]
    },
    {
      "cell_type": "code",
      "source": [
        "#Q5.Write Python Function to get even number from the list. List len must be equal to 8.\n",
        "##Solution Q5.\n",
        "List1 = list(map(float, input(\"Enter 8 numbers separated by space: \").split()))\n",
        "L = len(List1)\n",
        "\n",
        "if (L==8):\n",
        "    print(\"There are 8 elements in the list\")\n",
        "    for num in List1:\n",
        "  \n",
        "        if (num % 2 == 0):\n",
        "            print(num,\"is even number\" )\n",
        "        else:\n",
        "            print(num,\"is not even number\")    \n",
        "else: \n",
        "    print(\"There are less than 8 elements in the list\")"
      ],
      "metadata": {
        "colab": {
          "base_uri": "https://localhost:8080/"
        },
        "id": "WeSdXWIueL_2",
        "outputId": "5ebc717f-8a53-4a26-ffb8-f8dc4a221be1"
      },
      "execution_count": 7,
      "outputs": [
        {
          "output_type": "stream",
          "name": "stdout",
          "text": [
            "Enter 8 numbers separated by space: 23 43 46 98 12 47 39 78\n",
            "There are 8 elements in the list\n",
            "23.0 is not even number\n",
            "43.0 is not even number\n",
            "46.0 is even number\n",
            "98.0 is even number\n",
            "12.0 is even number\n",
            "47.0 is not even number\n",
            "39.0 is not even number\n",
            "78.0 is even number\n"
          ]
        }
      ]
    }
  ]
}