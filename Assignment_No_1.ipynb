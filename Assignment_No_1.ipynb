{
  "nbformat": 4,
  "nbformat_minor": 0,
  "metadata": {
    "colab": {
      "name": "Assignment_No_1.ipynb",
      "provenance": []
    },
    "kernelspec": {
      "name": "python3",
      "display_name": "Python 3"
    },
    "language_info": {
      "name": "python"
    }
  },
  "cells": [
    {
      "cell_type": "code",
      "execution_count": 13,
      "metadata": {
        "id": "m6SlL1_kchqE"
      },
      "outputs": [],
      "source": [
        "Name=\"Himanshu Thakur\"\n",
        "Roll_No=\"9165\""
      ]
    },
    {
      "cell_type": "code",
      "source": [
        "# List\n",
        "A=['Himanshu Vitthal Thakur','Age 20','TYBSc']\n",
        "B=['SP College Pune','Autonomus','Sadashiv Peth']\n",
        "print(type(A))\n",
        "print(A)\n",
        "print(type(B))\n",
        "print(B)"
      ],
      "metadata": {
        "id": "NmQca9H-lnu6",
        "colab": {
          "base_uri": "https://localhost:8080/"
        },
        "outputId": "602d2034-9170-4279-a128-f548d22c0e76"
      },
      "execution_count": 14,
      "outputs": [
        {
          "output_type": "stream",
          "name": "stdout",
          "text": [
            "<class 'list'>\n",
            "['Himanshu Vitthal Thakur', 'Age 20', 'TYBSc']\n",
            "<class 'list'>\n",
            "['SP College Pune', 'Autonomus', 'Sadashiv Peth']\n"
          ]
        }
      ]
    },
    {
      "cell_type": "code",
      "source": [
        "# Tuple : Tuple is not changeable\n",
        "a=('Himanshu Vitthal Thakur','Age 20','TYBSc')\n",
        "b=('SP College Pune','Autonomus','Sadashiv Peth')\n",
        "print(type(a))\n",
        "print(a)\n",
        "print(type(b))\n",
        "print(b)"
      ],
      "metadata": {
        "id": "Plz3zHctTf9Z",
        "colab": {
          "base_uri": "https://localhost:8080/"
        },
        "outputId": "f9915279-7e56-42e5-ee93-ccf1559802f2"
      },
      "execution_count": 15,
      "outputs": [
        {
          "output_type": "stream",
          "name": "stdout",
          "text": [
            "<class 'tuple'>\n",
            "('Himanshu Vitthal Thakur', 'Age 20', 'TYBSc')\n",
            "<class 'tuple'>\n",
            "('SP College Pune', 'Autonomus', 'Sadashiv Peth')\n"
          ]
        }
      ]
    },
    {
      "cell_type": "code",
      "source": [
        "print(A[0:2])\n",
        "print(B[1:2])\n",
        "print(a[1])\n",
        "print(b[2])"
      ],
      "metadata": {
        "colab": {
          "base_uri": "https://localhost:8080/"
        },
        "id": "BEmNKWNwOzj_",
        "outputId": "5315daa3-64af-4653-de18-1b19f7354c43"
      },
      "execution_count": 16,
      "outputs": [
        {
          "output_type": "stream",
          "name": "stdout",
          "text": [
            "['Himanshu Vitthal Thakur', 'Age 20']\n",
            "['Autonomus']\n",
            "Age 20\n",
            "Sadashiv Peth\n"
          ]
        }
      ]
    },
    {
      "cell_type": "code",
      "source": [
        "# append()\n",
        "A.append('Statistics')\n",
        "print(A)\n",
        "B.append('Pune')\n",
        "print(B)\n",
        "# Tuple is not changeable"
      ],
      "metadata": {
        "colab": {
          "base_uri": "https://localhost:8080/"
        },
        "id": "zmmJg-DPaa72",
        "outputId": "868dcdab-1852-4f91-bf16-d92cf6cc29c3"
      },
      "execution_count": 17,
      "outputs": [
        {
          "output_type": "stream",
          "name": "stdout",
          "text": [
            "['Himanshu Vitthal Thakur', 'Age 20', 'TYBSc', 'Statistics']\n",
            "['SP College Pune', 'Autonomus', 'Sadashiv Peth', 'Pune']\n"
          ]
        }
      ]
    },
    {
      "cell_type": "code",
      "source": [
        "#copy()\n",
        "A1=A.copy()\n",
        "print(A1)\n",
        "B1=B.copy()\n",
        "print(B)\n",
        "# Tuple cannot be copied"
      ],
      "metadata": {
        "colab": {
          "base_uri": "https://localhost:8080/"
        },
        "id": "V2YtBHhjtuL4",
        "outputId": "7cc9ca43-6ac9-4919-e97e-848073f928bd"
      },
      "execution_count": 18,
      "outputs": [
        {
          "output_type": "stream",
          "name": "stdout",
          "text": [
            "['Himanshu Vitthal Thakur', 'Age 20', 'TYBSc', 'Statistics']\n",
            "['SP College Pune', 'Autonomus', 'Sadashiv Peth', 'Pune']\n"
          ]
        }
      ]
    },
    {
      "cell_type": "code",
      "source": [
        "# count()\n",
        "A2=A.count('Statistics')\n",
        "B2=B.count('Pune')\n",
        "print(A2)\n",
        "print(B2)"
      ],
      "metadata": {
        "colab": {
          "base_uri": "https://localhost:8080/"
        },
        "id": "EJI_oN1uutZj",
        "outputId": "7a329105-a70a-4c78-9eaf-816522bfec7b"
      },
      "execution_count": 19,
      "outputs": [
        {
          "output_type": "stream",
          "name": "stdout",
          "text": [
            "1\n",
            "1\n"
          ]
        }
      ]
    },
    {
      "cell_type": "code",
      "source": [
        "# Extend\n",
        "A.extend(B) \n",
        "print(A)"
      ],
      "metadata": {
        "colab": {
          "base_uri": "https://localhost:8080/"
        },
        "id": "F_sgXuR-vtVR",
        "outputId": "fdf8140d-a312-4228-b8c5-b02906a56093"
      },
      "execution_count": 20,
      "outputs": [
        {
          "output_type": "stream",
          "name": "stdout",
          "text": [
            "['Himanshu Vitthal Thakur', 'Age 20', 'TYBSc', 'Statistics', 'SP College Pune', 'Autonomus', 'Sadashiv Peth', 'Pune']\n"
          ]
        }
      ]
    },
    {
      "cell_type": "code",
      "source": [
        "# index\n",
        "AI=A.index('Statistics')\n",
        "print(AI)\n",
        "BI=B.index('Autonomus')\n",
        "print(BI)"
      ],
      "metadata": {
        "colab": {
          "base_uri": "https://localhost:8080/"
        },
        "id": "0KtDQ7jBxR_3",
        "outputId": "3aeafb26-e2b8-4bd0-b87b-4efbca484ac9"
      },
      "execution_count": 21,
      "outputs": [
        {
          "output_type": "stream",
          "name": "stdout",
          "text": [
            "3\n",
            "1\n"
          ]
        }
      ]
    },
    {
      "cell_type": "code",
      "source": [
        "# Sort()\n",
        "A.sort()\n",
        "B.sort()\n",
        "print(A)\n",
        "print(B)\n"
      ],
      "metadata": {
        "colab": {
          "base_uri": "https://localhost:8080/"
        },
        "id": "y7dCJNmkyV2_",
        "outputId": "ce4699df-0d96-4c03-ef65-fa0534211123"
      },
      "execution_count": 22,
      "outputs": [
        {
          "output_type": "stream",
          "name": "stdout",
          "text": [
            "['Age 20', 'Autonomus', 'Himanshu Vitthal Thakur', 'Pune', 'SP College Pune', 'Sadashiv Peth', 'Statistics', 'TYBSc']\n",
            "['Autonomus', 'Pune', 'SP College Pune', 'Sadashiv Peth']\n"
          ]
        }
      ]
    },
    {
      "cell_type": "code",
      "source": [
        "# Insert\n",
        "A.insert(2,'Height 163')\n",
        "print(A)"
      ],
      "metadata": {
        "colab": {
          "base_uri": "https://localhost:8080/"
        },
        "id": "iDPpu8OO20Z1",
        "outputId": "335d979f-ef1e-4942-d862-7720397e7635"
      },
      "execution_count": 23,
      "outputs": [
        {
          "output_type": "stream",
          "name": "stdout",
          "text": [
            "['Age 20', 'Autonomus', 'Height 163', 'Himanshu Vitthal Thakur', 'Pune', 'SP College Pune', 'Sadashiv Peth', 'Statistics', 'TYBSc']\n"
          ]
        }
      ]
    },
    {
      "cell_type": "code",
      "source": [
        "# Delete\n",
        "del A"
      ],
      "metadata": {
        "id": "_cqEXb8V5umc"
      },
      "execution_count": 24,
      "outputs": []
    }
  ]
}